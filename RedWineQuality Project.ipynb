{
 "cells": [
  {
   "cell_type": "markdown",
   "metadata": {},
   "source": [
    "# ENGR 1330 – Computational Thinking and Data Science"
   ]
  },
  {
   "cell_type": "markdown",
   "metadata": {},
   "source": [
    "## Red Wine Quality Final Project - Background\n",
    "In this project, a dataset related to red wine samples from the northwest region of Portugal will\n",
    "be analyzed. The quality of a red wine that is determined via a sensory test is dependent on many different\n",
    "physicochemical properties, namely, fixed acidity, volatile acidity, pH value, density, etc. A file named\n",
    "‘winequality-red.csv’ contains information about different varieties of red wine and their quality that\n",
    "depends on several physicochemical properties like the ones mentioned above. Specifically, in the dataset, there is a quality score (QS) ranging from 3 to 8 that is given to each variety of red wine depending on 11 different properties. For this project, consider that a good wine is one with a quality score of\n",
    "QS ≥ 6 and a bad wine is one with a quality score of QS ≤ 5. The objective of this problem is to\n",
    "classify whether the wine is good or bad depending on the 11 different properties that are in the dataset.\n",
    "\n",
    "## Required Tasks:\n",
    "(a) Literature review:\n",
    "1) P. Cortez, A. Cerdeira, F. Almeida, T. Matos, and J. Reis. Modeling wine preferences by data mining\n",
    "from physicochemical properties. In Decision Support Systems, Elsevier, 47(4):547-553, 2009. [Get\n",
    "the research paper from Web of Science at TTU].\n",
    "\n",
    "(b) Data acquisition:\n",
    "1) Get the dataset required for this project from the following Kaggle website:\n",
    "https://www.kaggle.com/uciml/red-wine-quality-cortez-et-al-2009\n",
    "\n",
    "(c) Exploratory data analysis\n",
    " 1) Perform exploratory data analysis (getting information about the dataset, making plots, etc.)\n",
    " 2) Modify the dataset as needed for performing the analysis\n",
    "\n",
    "(d) Classification model\n",
    " 1) Implement a classification algorithm from scratch as well as using the data science library to\n",
    "classify good wines and bad wines\n",
    " 2) Evaluate the model by computing the necessary evaluation metrics from scratch as well as using\n",
    "the data science library\n"
   ]
  },
  {
   "cell_type": "markdown",
   "metadata": {},
   "source": [
    "**Database Acquisition**\n",
    "- Get the database from the zip file from BlackBoard or Kaggle website: https://www.kaggle.com/uciml/red-wine-quality-cortez-et-al-2009\n",
    "- Supply links to any additional databases discovered during the literature research\n",
    "\n",
    "**Exploratory Data Analysis**\n",
    "- Describe (in words) the database.\n",
    "- Reformat as needed (column headings perhaps) the database for subsequent analysis.\n",
    "\n",
    "**Model Building**\n",
    "- Build data model\n",
    "- Assess data model quality\n",
    "- Build the input data interface for using the model              \n",
    "       \n",
    "**Documentation**\n",
    "- Training and Project management video on how to use your tool, and demonstrate the tool(s) as they are run\n",
    "- Interim report (see deliverables below); this document must be rendered as a .pdf.\n",
    "- Final ipynb file (see deliverables below)"
   ]
  },
  {
   "cell_type": "markdown",
   "metadata": {},
   "source": [
    "## Deliverables:\n",
    "\n",
    "#### Part 1 Interim Report (due Dec 1):\n",
    "A report that briefly describes the project.Use the Interim Report Template in BlackBoard.   \n",
    "- Break down each task into manageable subtasks and describe how you intend to solve the subtasks and how you will test each task. (Perhaps make a simple Gantt Chart) or list of meeting times. \n",
    "- Address the responsibilities of each team member for tasks completed and tasks to be completed until the end of the semester. (Perhaps make explicit subtask assignments)  \n",
    "\n",
    "#### Part 2 Final Report (due Dec 10):\n",
    "- A well-documented JupyterLab (using a python kernel), use markdown cells and commenting for explanations and text. \n",
    "- A how-to video demonstrating performance and description of problems that you were not able to solve and also talk about project management such as who did what. Active participation of every single group member is mandatory in the presentation. \n",
    "- A final peer evaluation report, where each group member should rate the participation and contribution of the other members.\n",
    "\n",
    "**Above items can reside in a single video; but structure the video into the two parts; use an obvious transition when moving from \"how to ...\" into the project management portion.**  Keep the total video length to less than 10 minutes; submit as an *unlisted* YouTube video, and just supply the link (someone on each team is likely to have a YouTube creator account).  Keep in mind a 10 minute video can approach 100MB file size before compression, so it won't upload to Blackboard and cannot be emailed."
   ]
  },
  {
   "cell_type": "code",
   "execution_count": 1,
   "metadata": {},
   "outputs": [
    {
     "name": "stdout",
     "output_type": "stream",
     "text": [
      "   fixed acidity  volatile acidity  citric acid  residual sugar  chlorides  \\\n",
      "0            7.4              0.70         0.00             1.9      0.076   \n",
      "1            7.8              0.88         0.00             2.6      0.098   \n",
      "2            7.8              0.76         0.04             2.3      0.092   \n",
      "3           11.2              0.28         0.56             1.9      0.075   \n",
      "4            7.4              0.70         0.00             1.9      0.076   \n",
      "\n",
      "   free sulfur dioxide  total sulfur dioxide  density    pH  sulphates  \\\n",
      "0                 11.0                  34.0   0.9978  3.51       0.56   \n",
      "1                 25.0                  67.0   0.9968  3.20       0.68   \n",
      "2                 15.0                  54.0   0.9970  3.26       0.65   \n",
      "3                 17.0                  60.0   0.9980  3.16       0.58   \n",
      "4                 11.0                  34.0   0.9978  3.51       0.56   \n",
      "\n",
      "   alcohol  quality  \n",
      "0      9.4        5  \n",
      "1      9.8        5  \n",
      "2      9.8        5  \n",
      "3      9.8        6  \n",
      "4      9.4        5  \n"
     ]
    }
   ],
   "source": [
    "import pandas as pd\n",
    "import matplotlib.pyplot as plt\n",
    "import numpy as np\n",
    "import seaborn as sns # might not be needed\n",
    "\n",
    "rw = pd.read_csv(\"redwinequality.csv\") #rw for redwine\n",
    "print(rw.head())"
   ]
  }
 ],
 "metadata": {
  "kernelspec": {
   "display_name": "Python 3 (ipykernel)",
   "language": "python",
   "name": "python3"
  },
  "language_info": {
   "codemirror_mode": {
    "name": "ipython",
    "version": 3
   },
   "file_extension": ".py",
   "mimetype": "text/x-python",
   "name": "python",
   "nbconvert_exporter": "python",
   "pygments_lexer": "ipython3",
   "version": "3.11.5"
  }
 },
 "nbformat": 4,
 "nbformat_minor": 4
}
